{
  "nbformat": 4,
  "nbformat_minor": 0,
  "metadata": {
    "colab": {
      "provenance": [],
      "authorship_tag": "ABX9TyOb/hbIQawo+Paun0K1Lp1o",
      "include_colab_link": true
    },
    "kernelspec": {
      "name": "python3",
      "display_name": "Python 3"
    },
    "language_info": {
      "name": "python"
    }
  },
  "cells": [
    {
      "cell_type": "markdown",
      "metadata": {
        "id": "view-in-github",
        "colab_type": "text"
      },
      "source": [
        "<a href=\"https://colab.research.google.com/github/NoorHadiya/EDA-for-Medical-costs/blob/main/majpro2.ipynb\" target=\"_parent\"><img src=\"https://colab.research.google.com/assets/colab-badge.svg\" alt=\"Open In Colab\"/></a>"
      ]
    },
    {
      "cell_type": "code",
      "execution_count": null,
      "metadata": {
        "id": "tkGrU1aIHGQ6"
      },
      "outputs": [],
      "source": [
        "#DATASET NAME - 'MEDICAL COSTS'\n",
        "#DATASET PATH - '/content/insurance.csv'"
      ]
    },
    {
      "cell_type": "code",
      "source": [
        "#DATAFRAME\n",
        "import pandas as pd\n",
        "df = pd.read_csv('/content/insurance.csv')\n",
        "df"
      ],
      "metadata": {
        "id": "-hRmO0JWKPuY",
        "colab": {
          "base_uri": "https://localhost:8080/",
          "height": 423
        },
        "outputId": "a9645d78-b3c4-4576-c8ef-74729f4e090c"
      },
      "execution_count": null,
      "outputs": [
        {
          "output_type": "execute_result",
          "data": {
            "text/plain": [
              "      age     sex     bmi  children smoker     region      charges\n",
              "0      19  female  27.900         0    yes  southwest  16884.92400\n",
              "1      18    male  33.770         1     no  southeast   1725.55230\n",
              "2      28    male  33.000         3     no  southeast   4449.46200\n",
              "3      33    male  22.705         0     no  northwest  21984.47061\n",
              "4      32    male  28.880         0     no  northwest   3866.85520\n",
              "...   ...     ...     ...       ...    ...        ...          ...\n",
              "1333   50    male  30.970         3     no  northwest  10600.54830\n",
              "1334   18  female  31.920         0     no  northeast   2205.98080\n",
              "1335   18  female  36.850         0     no  southeast   1629.83350\n",
              "1336   21  female  25.800         0     no  southwest   2007.94500\n",
              "1337   61  female  29.070         0    yes  northwest  29141.36030\n",
              "\n",
              "[1338 rows x 7 columns]"
            ],
            "text/html": [
              "\n",
              "  <div id=\"df-a3a9f29f-aa0c-45eb-892d-1f99601721a3\">\n",
              "    <div class=\"colab-df-container\">\n",
              "      <div>\n",
              "<style scoped>\n",
              "    .dataframe tbody tr th:only-of-type {\n",
              "        vertical-align: middle;\n",
              "    }\n",
              "\n",
              "    .dataframe tbody tr th {\n",
              "        vertical-align: top;\n",
              "    }\n",
              "\n",
              "    .dataframe thead th {\n",
              "        text-align: right;\n",
              "    }\n",
              "</style>\n",
              "<table border=\"1\" class=\"dataframe\">\n",
              "  <thead>\n",
              "    <tr style=\"text-align: right;\">\n",
              "      <th></th>\n",
              "      <th>age</th>\n",
              "      <th>sex</th>\n",
              "      <th>bmi</th>\n",
              "      <th>children</th>\n",
              "      <th>smoker</th>\n",
              "      <th>region</th>\n",
              "      <th>charges</th>\n",
              "    </tr>\n",
              "  </thead>\n",
              "  <tbody>\n",
              "    <tr>\n",
              "      <th>0</th>\n",
              "      <td>19</td>\n",
              "      <td>female</td>\n",
              "      <td>27.900</td>\n",
              "      <td>0</td>\n",
              "      <td>yes</td>\n",
              "      <td>southwest</td>\n",
              "      <td>16884.92400</td>\n",
              "    </tr>\n",
              "    <tr>\n",
              "      <th>1</th>\n",
              "      <td>18</td>\n",
              "      <td>male</td>\n",
              "      <td>33.770</td>\n",
              "      <td>1</td>\n",
              "      <td>no</td>\n",
              "      <td>southeast</td>\n",
              "      <td>1725.55230</td>\n",
              "    </tr>\n",
              "    <tr>\n",
              "      <th>2</th>\n",
              "      <td>28</td>\n",
              "      <td>male</td>\n",
              "      <td>33.000</td>\n",
              "      <td>3</td>\n",
              "      <td>no</td>\n",
              "      <td>southeast</td>\n",
              "      <td>4449.46200</td>\n",
              "    </tr>\n",
              "    <tr>\n",
              "      <th>3</th>\n",
              "      <td>33</td>\n",
              "      <td>male</td>\n",
              "      <td>22.705</td>\n",
              "      <td>0</td>\n",
              "      <td>no</td>\n",
              "      <td>northwest</td>\n",
              "      <td>21984.47061</td>\n",
              "    </tr>\n",
              "    <tr>\n",
              "      <th>4</th>\n",
              "      <td>32</td>\n",
              "      <td>male</td>\n",
              "      <td>28.880</td>\n",
              "      <td>0</td>\n",
              "      <td>no</td>\n",
              "      <td>northwest</td>\n",
              "      <td>3866.85520</td>\n",
              "    </tr>\n",
              "    <tr>\n",
              "      <th>...</th>\n",
              "      <td>...</td>\n",
              "      <td>...</td>\n",
              "      <td>...</td>\n",
              "      <td>...</td>\n",
              "      <td>...</td>\n",
              "      <td>...</td>\n",
              "      <td>...</td>\n",
              "    </tr>\n",
              "    <tr>\n",
              "      <th>1333</th>\n",
              "      <td>50</td>\n",
              "      <td>male</td>\n",
              "      <td>30.970</td>\n",
              "      <td>3</td>\n",
              "      <td>no</td>\n",
              "      <td>northwest</td>\n",
              "      <td>10600.54830</td>\n",
              "    </tr>\n",
              "    <tr>\n",
              "      <th>1334</th>\n",
              "      <td>18</td>\n",
              "      <td>female</td>\n",
              "      <td>31.920</td>\n",
              "      <td>0</td>\n",
              "      <td>no</td>\n",
              "      <td>northeast</td>\n",
              "      <td>2205.98080</td>\n",
              "    </tr>\n",
              "    <tr>\n",
              "      <th>1335</th>\n",
              "      <td>18</td>\n",
              "      <td>female</td>\n",
              "      <td>36.850</td>\n",
              "      <td>0</td>\n",
              "      <td>no</td>\n",
              "      <td>southeast</td>\n",
              "      <td>1629.83350</td>\n",
              "    </tr>\n",
              "    <tr>\n",
              "      <th>1336</th>\n",
              "      <td>21</td>\n",
              "      <td>female</td>\n",
              "      <td>25.800</td>\n",
              "      <td>0</td>\n",
              "      <td>no</td>\n",
              "      <td>southwest</td>\n",
              "      <td>2007.94500</td>\n",
              "    </tr>\n",
              "    <tr>\n",
              "      <th>1337</th>\n",
              "      <td>61</td>\n",
              "      <td>female</td>\n",
              "      <td>29.070</td>\n",
              "      <td>0</td>\n",
              "      <td>yes</td>\n",
              "      <td>northwest</td>\n",
              "      <td>29141.36030</td>\n",
              "    </tr>\n",
              "  </tbody>\n",
              "</table>\n",
              "<p>1338 rows × 7 columns</p>\n",
              "</div>\n",
              "      <button class=\"colab-df-convert\" onclick=\"convertToInteractive('df-a3a9f29f-aa0c-45eb-892d-1f99601721a3')\"\n",
              "              title=\"Convert this dataframe to an interactive table.\"\n",
              "              style=\"display:none;\">\n",
              "        \n",
              "  <svg xmlns=\"http://www.w3.org/2000/svg\" height=\"24px\"viewBox=\"0 0 24 24\"\n",
              "       width=\"24px\">\n",
              "    <path d=\"M0 0h24v24H0V0z\" fill=\"none\"/>\n",
              "    <path d=\"M18.56 5.44l.94 2.06.94-2.06 2.06-.94-2.06-.94-.94-2.06-.94 2.06-2.06.94zm-11 1L8.5 8.5l.94-2.06 2.06-.94-2.06-.94L8.5 2.5l-.94 2.06-2.06.94zm10 10l.94 2.06.94-2.06 2.06-.94-2.06-.94-.94-2.06-.94 2.06-2.06.94z\"/><path d=\"M17.41 7.96l-1.37-1.37c-.4-.4-.92-.59-1.43-.59-.52 0-1.04.2-1.43.59L10.3 9.45l-7.72 7.72c-.78.78-.78 2.05 0 2.83L4 21.41c.39.39.9.59 1.41.59.51 0 1.02-.2 1.41-.59l7.78-7.78 2.81-2.81c.8-.78.8-2.07 0-2.86zM5.41 20L4 18.59l7.72-7.72 1.47 1.35L5.41 20z\"/>\n",
              "  </svg>\n",
              "      </button>\n",
              "      \n",
              "  <style>\n",
              "    .colab-df-container {\n",
              "      display:flex;\n",
              "      flex-wrap:wrap;\n",
              "      gap: 12px;\n",
              "    }\n",
              "\n",
              "    .colab-df-convert {\n",
              "      background-color: #E8F0FE;\n",
              "      border: none;\n",
              "      border-radius: 50%;\n",
              "      cursor: pointer;\n",
              "      display: none;\n",
              "      fill: #1967D2;\n",
              "      height: 32px;\n",
              "      padding: 0 0 0 0;\n",
              "      width: 32px;\n",
              "    }\n",
              "\n",
              "    .colab-df-convert:hover {\n",
              "      background-color: #E2EBFA;\n",
              "      box-shadow: 0px 1px 2px rgba(60, 64, 67, 0.3), 0px 1px 3px 1px rgba(60, 64, 67, 0.15);\n",
              "      fill: #174EA6;\n",
              "    }\n",
              "\n",
              "    [theme=dark] .colab-df-convert {\n",
              "      background-color: #3B4455;\n",
              "      fill: #D2E3FC;\n",
              "    }\n",
              "\n",
              "    [theme=dark] .colab-df-convert:hover {\n",
              "      background-color: #434B5C;\n",
              "      box-shadow: 0px 1px 3px 1px rgba(0, 0, 0, 0.15);\n",
              "      filter: drop-shadow(0px 1px 2px rgba(0, 0, 0, 0.3));\n",
              "      fill: #FFFFFF;\n",
              "    }\n",
              "  </style>\n",
              "\n",
              "      <script>\n",
              "        const buttonEl =\n",
              "          document.querySelector('#df-a3a9f29f-aa0c-45eb-892d-1f99601721a3 button.colab-df-convert');\n",
              "        buttonEl.style.display =\n",
              "          google.colab.kernel.accessAllowed ? 'block' : 'none';\n",
              "\n",
              "        async function convertToInteractive(key) {\n",
              "          const element = document.querySelector('#df-a3a9f29f-aa0c-45eb-892d-1f99601721a3');\n",
              "          const dataTable =\n",
              "            await google.colab.kernel.invokeFunction('convertToInteractive',\n",
              "                                                     [key], {});\n",
              "          if (!dataTable) return;\n",
              "\n",
              "          const docLinkHtml = 'Like what you see? Visit the ' +\n",
              "            '<a target=\"_blank\" href=https://colab.research.google.com/notebooks/data_table.ipynb>data table notebook</a>'\n",
              "            + ' to learn more about interactive tables.';\n",
              "          element.innerHTML = '';\n",
              "          dataTable['output_type'] = 'display_data';\n",
              "          await google.colab.output.renderOutput(dataTable, element);\n",
              "          const docLink = document.createElement('div');\n",
              "          docLink.innerHTML = docLinkHtml;\n",
              "          element.appendChild(docLink);\n",
              "        }\n",
              "      </script>\n",
              "    </div>\n",
              "  </div>\n",
              "  "
            ]
          },
          "metadata": {},
          "execution_count": 1
        }
      ]
    },
    {
      "cell_type": "code",
      "source": [
        "df.shape #TOTAL ROWS AND COLS"
      ],
      "metadata": {
        "colab": {
          "base_uri": "https://localhost:8080/"
        },
        "id": "GO_Q33QKR1x8",
        "outputId": "bafc37f1-3a5d-4d38-e93d-c3bfa9ba4537"
      },
      "execution_count": null,
      "outputs": [
        {
          "output_type": "execute_result",
          "data": {
            "text/plain": [
              "(1338, 7)"
            ]
          },
          "metadata": {},
          "execution_count": 2
        }
      ]
    },
    {
      "cell_type": "code",
      "source": [
        "df.size #TOTAL ELEMENTS IN DATAFRAME"
      ],
      "metadata": {
        "id": "L7J3HajnTZH1",
        "colab": {
          "base_uri": "https://localhost:8080/"
        },
        "outputId": "7bade7e6-9e84-461d-fa32-81bbf5bbae8a"
      },
      "execution_count": null,
      "outputs": [
        {
          "output_type": "execute_result",
          "data": {
            "text/plain": [
              "9366"
            ]
          },
          "metadata": {},
          "execution_count": 3
        }
      ]
    },
    {
      "cell_type": "code",
      "source": [
        "df.info() #COMPLETE INFO ABOUT DATAFRAME"
      ],
      "metadata": {
        "colab": {
          "base_uri": "https://localhost:8080/"
        },
        "id": "h5vF1Lc46owi",
        "outputId": "8d79e075-aec0-4bf6-e1df-924e76182f2a"
      },
      "execution_count": null,
      "outputs": [
        {
          "output_type": "stream",
          "name": "stdout",
          "text": [
            "<class 'pandas.core.frame.DataFrame'>\n",
            "RangeIndex: 1338 entries, 0 to 1337\n",
            "Data columns (total 7 columns):\n",
            " #   Column    Non-Null Count  Dtype  \n",
            "---  ------    --------------  -----  \n",
            " 0   age       1338 non-null   int64  \n",
            " 1   sex       1338 non-null   object \n",
            " 2   bmi       1338 non-null   float64\n",
            " 3   children  1338 non-null   int64  \n",
            " 4   smoker    1338 non-null   object \n",
            " 5   region    1338 non-null   object \n",
            " 6   charges   1338 non-null   float64\n",
            "dtypes: float64(2), int64(2), object(3)\n",
            "memory usage: 73.3+ KB\n"
          ]
        }
      ]
    },
    {
      "cell_type": "code",
      "source": [
        "df.isnull().sum() #NULL VALUES"
      ],
      "metadata": {
        "colab": {
          "base_uri": "https://localhost:8080/"
        },
        "id": "sJL35OtW8fLl",
        "outputId": "fea17907-0fc9-4e5a-9ebc-8efc52820e02"
      },
      "execution_count": null,
      "outputs": [
        {
          "output_type": "execute_result",
          "data": {
            "text/plain": [
              "age         0\n",
              "sex         0\n",
              "bmi         0\n",
              "children    0\n",
              "smoker      0\n",
              "region      0\n",
              "charges     0\n",
              "dtype: int64"
            ]
          },
          "metadata": {},
          "execution_count": 5
        }
      ]
    },
    {
      "cell_type": "code",
      "source": [
        "df.nunique() #UNIQUE VALUES IN EVERY COL"
      ],
      "metadata": {
        "id": "_xSPiVGC9JK9",
        "colab": {
          "base_uri": "https://localhost:8080/"
        },
        "outputId": "6e13cb7f-31b3-488e-c488-3bec7fe13932"
      },
      "execution_count": null,
      "outputs": [
        {
          "output_type": "execute_result",
          "data": {
            "text/plain": [
              "age           47\n",
              "sex            2\n",
              "bmi          548\n",
              "children       6\n",
              "smoker         2\n",
              "region         4\n",
              "charges     1337\n",
              "dtype: int64"
            ]
          },
          "metadata": {},
          "execution_count": 6
        }
      ]
    },
    {
      "cell_type": "code",
      "source": [
        "#VISUALISATION USING SEABORN\n",
        "import seaborn as sns\n",
        "sns.countplot(x = 'region',data = df)"
      ],
      "metadata": {
        "colab": {
          "base_uri": "https://localhost:8080/",
          "height": 298
        },
        "id": "F3RbDa2JAZ67",
        "outputId": "3092de07-abc4-425c-a990-0067d0fc3fc8"
      },
      "execution_count": null,
      "outputs": [
        {
          "output_type": "execute_result",
          "data": {
            "text/plain": [
              "<AxesSubplot:xlabel='region', ylabel='count'>"
            ]
          },
          "metadata": {},
          "execution_count": 8
        },
        {
          "output_type": "display_data",
          "data": {
            "text/plain": [
              "<Figure size 432x288 with 1 Axes>"
            ],
            "image/png": "[encoded data removed]"
          },
          "metadata": {
            "needs_background": "light"
          }
        }
      ]
    },
    {
      "cell_type": "code",
      "source": [
        "df['region'].value_counts() #EXACT COUNT IN DIFFERENT REGIONS"
      ],
      "metadata": {
        "colab": {
          "base_uri": "https://localhost:8080/"
        },
        "id": "AdDZVtF2AsM7",
        "outputId": "564ef4e8-5ed1-4562-eaa9-86e2d89c4608"
      },
      "execution_count": null,
      "outputs": [
        {
          "output_type": "execute_result",
          "data": {
            "text/plain": [
              "southeast    364\n",
              "southwest    325\n",
              "northwest    325\n",
              "northeast    324\n",
              "Name: region, dtype: int64"
            ]
          },
          "metadata": {},
          "execution_count": 9
        }
      ]
    },
    {
      "cell_type": "code",
      "source": [
        "df.sex.value_counts() #NO. OF MALE AND FEMALE"
      ],
      "metadata": {
        "id": "CvYyP2WfA5pe",
        "colab": {
          "base_uri": "https://localhost:8080/"
        },
        "outputId": "b78bec5a-41b7-4f22-8c8b-c76d235fb329"
      },
      "execution_count": null,
      "outputs": [
        {
          "output_type": "execute_result",
          "data": {
            "text/plain": [
              "male      676\n",
              "female    662\n",
              "Name: sex, dtype: int64"
            ]
          },
          "metadata": {},
          "execution_count": 10
        }
      ]
    },
    {
      "cell_type": "code",
      "source": [
        "import numpy as np\n",
        "southeast_m = np.sum((df['sex']=='male')&(df['region']=='southeast')) #COUNT OF MALE IN SOUTHEAST\n",
        "southeast_f = np.sum((df['sex']=='female')&(df['region']=='southeast')) #COUNT OF FEMALE IN SOUTHEAST\n",
        "print(southeast_m)\n",
        "print(southeast_f)"
      ],
      "metadata": {
        "colab": {
          "base_uri": "https://localhost:8080/"
        },
        "id": "QCikbVeHC4Ja",
        "outputId": "99ef31d9-236d-43e9-f2b2-901e6d144815"
      },
      "execution_count": null,
      "outputs": [
        {
          "output_type": "stream",
          "name": "stdout",
          "text": [
            "189\n",
            "175\n"
          ]
        }
      ]
    },
    {
      "cell_type": "code",
      "source": [
        "southwest_m_y = np.sum((df['region']=='southwest')&(df['sex']=='male')&(df['smoker']=='yes')) #MALE IN SOUTHWEST WHO SMOKES\n",
        "southwest_m_n = np.sum((df['region']=='southwest')&(df['sex']=='male')&(df['smoker']=='no')) #MALE IN SOUTHWEST WHO DOESN'T SMOKE\n",
        "southwest_f_y = np.sum((df['region']=='southwest')&(df['sex']=='female')&(df['smoker']=='yes')) #FEMALE IN SOUTHWEST WHO SMOKES\n",
        "southwest_f_n = np.sum((df['region']=='southwest')&(df['sex']=='female')&(df['smoker']=='no')) #FEMALE IN SOUTHWEST WHO DOESN'T SMOKE\n",
        "print(southwest_m_y)\n",
        "print(southwest_m_n)\n",
        "print(southwest_f_y)\n",
        "print(southwest_f_n)"
      ],
      "metadata": {
        "id": "0H5yrGxbDkna",
        "colab": {
          "base_uri": "https://localhost:8080/"
        },
        "outputId": "6ec7f935-fd26-42db-aa4b-9764150acc0e"
      },
      "execution_count": null,
      "outputs": [
        {
          "output_type": "stream",
          "name": "stdout",
          "text": [
            "37\n",
            "126\n",
            "21\n",
            "141\n"
          ]
        }
      ]
    },
    {
      "cell_type": "code",
      "source": [
        "smoker_y_se = np.sum((df['smoker']=='yes')&(df['region']=='southeast')) #SMOKERS IN SOUTHEAST\n",
        "smoker_n_sw = np.sum((df['smoker']=='no')&(df['region']=='southwest')) #NON SMOKERS IN SOUTHWEST\n",
        "smoker_y_ne = np.sum((df['smoker']=='yes')&(df['region']=='northeast')) #SMOKERS IN NORTHEAST\n",
        "smoker_n_nw = np.sum((df['smoker']=='no')&(df['region']=='northwest')) #NON SMOKERS IN NORTHWEST\n",
        "print(smoker_y_se)\n",
        "print(smoker_n_sw)\n",
        "print(smoker_y_ne)\n",
        "print(smoker_n_nw)"
      ],
      "metadata": {
        "colab": {
          "base_uri": "https://localhost:8080/"
        },
        "id": "9AnpyEhiHXpr",
        "outputId": "a4d86fbc-87fa-4730-c3f4-c512f93e3578"
      },
      "execution_count": null,
      "outputs": [
        {
          "output_type": "stream",
          "name": "stdout",
          "text": [
            "91\n",
            "267\n",
            "67\n",
            "267\n"
          ]
        }
      ]
    },
    {
      "cell_type": "code",
      "source": [
        "smoker_n_se = np.sum((df['smoker']=='no')&(df['region']=='southeast')) #NON SMOKERS IN SOUTHEAST\n",
        "smoker_y_sw = np.sum((df['smoker']=='yes')&(df['region']=='southwest')) #SMOKERS IN SOUTHWEST\n",
        "smoker_n_ne = np.sum((df['smoker']=='no')&(df['region']=='northeast')) #NON SMOKERS IN NORTHEAST\n",
        "smoker_y_nw = np.sum((df['smoker']=='yes')&(df['region']=='northwest')) #SMOKERS IN NORTHWEST\n",
        "print(smoker_n_se)\n",
        "print(smoker_y_sw)\n",
        "print(smoker_n_ne)\n",
        "print(smoker_y_nw)"
      ],
      "metadata": {
        "id": "SSc1s82THgZ6",
        "colab": {
          "base_uri": "https://localhost:8080/"
        },
        "outputId": "6853774e-28db-4374-fc0d-d00f9070a29b"
      },
      "execution_count": null,
      "outputs": [
        {
          "output_type": "stream",
          "name": "stdout",
          "text": [
            "273\n",
            "58\n",
            "257\n",
            "58\n"
          ]
        }
      ]
    },
    {
      "cell_type": "code",
      "source": [
        "df.groupby(['region','smoker']).size() #COUNT ON DIFF REGION'S SMOKERS AND NON SMOKERS"
      ],
      "metadata": {
        "colab": {
          "base_uri": "https://localhost:8080/"
        },
        "id": "_dOrb6KpPkT6",
        "outputId": "1aeb7252-56e8-44f3-8bc2-c08e71e68823"
      },
      "execution_count": null,
      "outputs": [
        {
          "output_type": "execute_result",
          "data": {
            "text/plain": [
              "region     smoker\n",
              "northeast  no        257\n",
              "           yes        67\n",
              "northwest  no        267\n",
              "           yes        58\n",
              "southeast  no        273\n",
              "           yes        91\n",
              "southwest  no        267\n",
              "           yes        58\n",
              "dtype: int64"
            ]
          },
          "metadata": {},
          "execution_count": 53
        }
      ]
    },
    {
      "cell_type": "code",
      "source": [
        "#AGE CLASSIFICATION\n",
        "teen = np.sum((df['age']>=0)&(df['age']<20))\n",
        "twenties = np.sum((df['age']>=20)&(df['age']<30))\n",
        "thirties = np.sum((df['age']>=30)&(df['age']<40))\n",
        "fourties = np.sum((df['age']>=40)&(df['age']<50))\n",
        "fifties = np.sum((df['age']>=50)&(df['age']<60))\n",
        "older = np.sum((df['age']>=60))\n",
        "print(teen)\n",
        "print(twenties)\n",
        "print(thirties)\n",
        "print(fourties)\n",
        "print(fifties)\n",
        "print(older)"
      ],
      "metadata": {
        "colab": {
          "base_uri": "https://localhost:8080/"
        },
        "id": "HHqWvXnCP8jb",
        "outputId": "0ffde27f-4421-4831-f54f-422b454a11e8"
      },
      "execution_count": null,
      "outputs": [
        {
          "output_type": "stream",
          "name": "stdout",
          "text": [
            "137\n",
            "280\n",
            "257\n",
            "279\n",
            "271\n",
            "114\n"
          ]
        }
      ]
    },
    {
      "cell_type": "code",
      "source": [
        "#CHILDREN CLASSIFICATION WITH DIFF AGES\n",
        "ch_0 = np.sum((df['age']==18)&(df['children']==0))\n",
        "ch_1 = np.sum((df['age']==19)&(df['children']==1))\n",
        "ch_2 = np.sum((df['age']==52)&(df['children']==2))\n",
        "ch_3 = np.sum((df['age']==55)&(df['children']==3))\n",
        "ch_4 = np.sum((df['age']==48)&(df['children']==4))\n",
        "ch_5 = np.sum((df['age']==39)&(df['children']==5))\n",
        "print(ch_0)\n",
        "print(ch_1)\n",
        "print(ch_2)\n",
        "print(ch_3)\n",
        "print(ch_4)\n",
        "print(ch_5)"
      ],
      "metadata": {
        "colab": {
          "base_uri": "https://localhost:8080/"
        },
        "id": "7k3wGMfuXy_o",
        "outputId": "16aab9ec-0db1-4293-88ce-1099080056c3"
      },
      "execution_count": null,
      "outputs": [
        {
          "output_type": "stream",
          "name": "stdout",
          "text": [
            "51\n",
            "11\n",
            "8\n",
            "4\n",
            "3\n",
            "4\n"
          ]
        }
      ]
    },
    {
      "cell_type": "code",
      "source": [
        "np.min(df['charges']) #MINIMUM CHARGES"
      ],
      "metadata": {
        "colab": {
          "base_uri": "https://localhost:8080/"
        },
        "id": "Kq90uN_xYvgW",
        "outputId": "884f6bf5-e6ba-402c-bded-6dfb20f8fdfa"
      },
      "execution_count": null,
      "outputs": [
        {
          "output_type": "execute_result",
          "data": {
            "text/plain": [
              "1121.8739"
            ]
          },
          "metadata": {},
          "execution_count": 59
        }
      ]
    },
    {
      "cell_type": "code",
      "source": [
        "np.min(df['bmi']) #MINIMUM BODY MASS INDEX"
      ],
      "metadata": {
        "colab": {
          "base_uri": "https://localhost:8080/"
        },
        "id": "CCZLHl0kcgZm",
        "outputId": "b1662cbf-6439-4a4b-c93c-e9030146f8e5"
      },
      "execution_count": null,
      "outputs": [
        {
          "output_type": "execute_result",
          "data": {
            "text/plain": [
              "15.96"
            ]
          },
          "metadata": {},
          "execution_count": 78
        }
      ]
    },
    {
      "cell_type": "code",
      "source": [
        "np.max(df['charges']) #MAXIMUM CHARGES"
      ],
      "metadata": {
        "colab": {
          "base_uri": "https://localhost:8080/"
        },
        "id": "mobIH4m7ZBTl",
        "outputId": "4310119f-24da-4e7e-8e6d-f9408ef64b90"
      },
      "execution_count": null,
      "outputs": [
        {
          "output_type": "execute_result",
          "data": {
            "text/plain": [
              "63770.42801"
            ]
          },
          "metadata": {},
          "execution_count": 60
        }
      ]
    },
    {
      "cell_type": "code",
      "source": [
        "np.max(df['bmi']) #MAXIMUM BODY MASS INDEX"
      ],
      "metadata": {
        "colab": {
          "base_uri": "https://localhost:8080/"
        },
        "id": "nweHdPtCcmdF",
        "outputId": "43a4ea35-0063-4eef-83d1-4ba768f44c19"
      },
      "execution_count": null,
      "outputs": [
        {
          "output_type": "execute_result",
          "data": {
            "text/plain": [
              "53.13"
            ]
          },
          "metadata": {},
          "execution_count": 79
        }
      ]
    },
    {
      "cell_type": "code",
      "source": [
        "df.groupby(['age','children']).size() #COUNT ON DIFF AGE'S CHILDREN NUMBERS"
      ],
      "metadata": {
        "colab": {
          "base_uri": "https://localhost:8080/"
        },
        "id": "hYoqerDjZFsp",
        "outputId": "14454489-6cb5-4d2e-9f3b-512072d393a7"
      },
      "execution_count": null,
      "outputs": [
        {
          "output_type": "execute_result",
          "data": {
            "text/plain": [
              "age  children\n",
              "18   0           51\n",
              "     1            9\n",
              "     2            6\n",
              "     3            2\n",
              "     4            1\n",
              "                 ..\n",
              "63   3            3\n",
              "64   0           13\n",
              "     1            3\n",
              "     2            4\n",
              "     3            2\n",
              "Length: 219, dtype: int64"
            ]
          },
          "metadata": {},
          "execution_count": 64
        }
      ]
    }
  ]
}